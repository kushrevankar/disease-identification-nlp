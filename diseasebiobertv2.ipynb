{
  "cells": [
    {
      "cell_type": "markdown",
      "metadata": {
        "id": "oy_WMoHG723z"
      },
      "source": [
        "# Symptom-Based Disease Classification using BioBERT\n",
        "\n",
        "# *Dataset used: UCI ML Drug Review Dataset (Kaggle)*"
      ]
    },
    {
      "cell_type": "code",
      "execution_count": null,
      "metadata": {
        "colab": {
          "base_uri": "https://localhost:8080/"
        },
        "id": "Maj7IWNappSO",
        "outputId": "b62ec2d1-122f-45f2-fe13-d01f08f97b1f"
      },
      "outputs": [
        {
          "name": "stdout",
          "output_type": "stream",
          "text": [
            "Requirement already satisfied: transformers in /usr/local/lib/python3.11/dist-packages (4.50.2)\n",
            "Requirement already satisfied: filelock in /usr/local/lib/python3.11/dist-packages (from transformers) (3.18.0)\n",
            "Requirement already satisfied: huggingface-hub<1.0,>=0.26.0 in /usr/local/lib/python3.11/dist-packages (from transformers) (0.29.3)\n",
            "Requirement already satisfied: numpy>=1.17 in /usr/local/lib/python3.11/dist-packages (from transformers) (2.0.2)\n",
            "Requirement already satisfied: packaging>=20.0 in /usr/local/lib/python3.11/dist-packages (from transformers) (24.2)\n",
            "Requirement already satisfied: pyyaml>=5.1 in /usr/local/lib/python3.11/dist-packages (from transformers) (6.0.2)\n",
            "Requirement already satisfied: regex!=2019.12.17 in /usr/local/lib/python3.11/dist-packages (from transformers) (2024.11.6)\n",
            "Requirement already satisfied: requests in /usr/local/lib/python3.11/dist-packages (from transformers) (2.32.3)\n",
            "Requirement already satisfied: tokenizers<0.22,>=0.21 in /usr/local/lib/python3.11/dist-packages (from transformers) (0.21.1)\n",
            "Requirement already satisfied: safetensors>=0.4.3 in /usr/local/lib/python3.11/dist-packages (from transformers) (0.5.3)\n",
            "Requirement already satisfied: tqdm>=4.27 in /usr/local/lib/python3.11/dist-packages (from transformers) (4.67.1)\n",
            "Requirement already satisfied: fsspec>=2023.5.0 in /usr/local/lib/python3.11/dist-packages (from huggingface-hub<1.0,>=0.26.0->transformers) (2025.3.0)\n",
            "Requirement already satisfied: typing-extensions>=3.7.4.3 in /usr/local/lib/python3.11/dist-packages (from huggingface-hub<1.0,>=0.26.0->transformers) (4.13.0)\n",
            "Requirement already satisfied: charset-normalizer<4,>=2 in /usr/local/lib/python3.11/dist-packages (from requests->transformers) (3.4.1)\n",
            "Requirement already satisfied: idna<4,>=2.5 in /usr/local/lib/python3.11/dist-packages (from requests->transformers) (3.10)\n",
            "Requirement already satisfied: urllib3<3,>=1.21.1 in /usr/local/lib/python3.11/dist-packages (from requests->transformers) (2.3.0)\n",
            "Requirement already satisfied: certifi>=2017.4.17 in /usr/local/lib/python3.11/dist-packages (from requests->transformers) (2025.1.31)\n",
            "Requirement already satisfied: opendatasets in /usr/local/lib/python3.11/dist-packages (0.1.22)\n",
            "Requirement already satisfied: tqdm in /usr/local/lib/python3.11/dist-packages (from opendatasets) (4.67.1)\n",
            "Requirement already satisfied: kaggle in /usr/local/lib/python3.11/dist-packages (from opendatasets) (1.7.4.2)\n",
            "Requirement already satisfied: click in /usr/local/lib/python3.11/dist-packages (from opendatasets) (8.1.8)\n",
            "Requirement already satisfied: bleach in /usr/local/lib/python3.11/dist-packages (from kaggle->opendatasets) (6.2.0)\n",
            "Requirement already satisfied: certifi>=14.05.14 in /usr/local/lib/python3.11/dist-packages (from kaggle->opendatasets) (2025.1.31)\n",
            "Requirement already satisfied: charset-normalizer in /usr/local/lib/python3.11/dist-packages (from kaggle->opendatasets) (3.4.1)\n",
            "Requirement already satisfied: idna in /usr/local/lib/python3.11/dist-packages (from kaggle->opendatasets) (3.10)\n",
            "Requirement already satisfied: protobuf in /usr/local/lib/python3.11/dist-packages (from kaggle->opendatasets) (5.29.4)\n",
            "Requirement already satisfied: python-dateutil>=2.5.3 in /usr/local/lib/python3.11/dist-packages (from kaggle->opendatasets) (2.8.2)\n",
            "Requirement already satisfied: python-slugify in /usr/local/lib/python3.11/dist-packages (from kaggle->opendatasets) (8.0.4)\n",
            "Requirement already satisfied: requests in /usr/local/lib/python3.11/dist-packages (from kaggle->opendatasets) (2.32.3)\n",
            "Requirement already satisfied: setuptools>=21.0.0 in /usr/local/lib/python3.11/dist-packages (from kaggle->opendatasets) (75.2.0)\n",
            "Requirement already satisfied: six>=1.10 in /usr/local/lib/python3.11/dist-packages (from kaggle->opendatasets) (1.17.0)\n",
            "Requirement already satisfied: text-unidecode in /usr/local/lib/python3.11/dist-packages (from kaggle->opendatasets) (1.3)\n",
            "Requirement already satisfied: urllib3>=1.15.1 in /usr/local/lib/python3.11/dist-packages (from kaggle->opendatasets) (2.3.0)\n",
            "Requirement already satisfied: webencodings in /usr/local/lib/python3.11/dist-packages (from kaggle->opendatasets) (0.5.1)\n"
          ]
        }
      ],
      "source": [
        "!pip install transformers\n",
        "!pip install opendatasets\n",
        "import opendatasets as od\n",
        "from transformers import BertModel, BertTokenizer\n",
        "import pandas as pd\n",
        "from tqdm import tqdm\n",
        "import torch.nn as nn\n",
        "import torch\n",
        "from torch.utils.data import TensorDataset, DataLoader\n",
        "from torch.optim import AdamW\n",
        "from collections import Counter\n",
        "from sklearn.model_selection import train_test_split\n",
        "from sklearn.metrics import f1_score, accuracy_score\n",
        "import logging\n",
        "import matplotlib.pyplot as plt"
      ]
    },
    {
      "cell_type": "markdown",
      "metadata": {
        "id": "STOTtJMa8arh"
      },
      "source": [
        "# Setting up the model and the dataset, leveraging GPU usage:"
      ]
    },
    {
      "cell_type": "code",
      "execution_count": null,
      "metadata": {
        "id": "OpzPdRnaqLI2"
      },
      "outputs": [],
      "source": [
        "# Setup\n",
        "torch.manual_seed(42)\n",
        "device = torch.device('cuda' if torch.cuda.is_available() else 'cpu')\n",
        "logging.basicConfig(level=logging.INFO, format='%(asctime)s - %(levelname)s - %(message)s')\n",
        "logger = logging.getLogger(__name__)\n",
        "\n",
        "DATASET_URL = 'https://www.kaggle.com/datasets/jessicali9530/kuc-hackathon-winter-2018'"
      ]
    },
    {
      "cell_type": "markdown",
      "metadata": {
        "id": "nmicEogY8r0Q"
      },
      "source": [
        "# Defining the Loading and splitting function for the dataset"
      ]
    },
    {
      "cell_type": "code",
      "execution_count": null,
      "metadata": {
        "id": "KoL8qOamsup5"
      },
      "outputs": [],
      "source": [
        "# Data loading function\n",
        "def load_data(dataset_url, sample_size=5000):\n",
        "    od.download(dataset_url)\n",
        "    kaggle_train = pd.read_csv('/content/kuc-hackathon-winter-2018/drugsComTrain_raw.csv')\n",
        "    kaggle_test = pd.read_csv('/content/kuc-hackathon-winter-2018/drugsComTest_raw.csv')\n",
        "    main_x = list(pd.concat([kaggle_train['review'], kaggle_test['review']], axis=0, ignore_index=True))[:sample_size]\n",
        "    main_y = list(pd.concat([kaggle_train['condition'], kaggle_test['condition']], axis=0))[:sample_size]\n",
        "    return main_x, main_y"
      ]
    },
    {
      "cell_type": "markdown",
      "metadata": {
        "id": "wB1wehSYl_hh"
      },
      "source": [
        "# Define Preprocessing (tokenization, setting max lengths for the model input) Functions and Loading the Data into the Model"
      ]
    },
    {
      "cell_type": "code",
      "execution_count": null,
      "metadata": {
        "id": "ieRj3bP8qH65"
      },
      "outputs": [],
      "source": [
        "# Data preprocessing function\n",
        "def preprocess_data(x, y, tokenizer, test_size=0.10, val_split=0.5, batch_size=128):\n",
        "    vocab = list(Counter(y).keys())\n",
        "    i_to_x = {i: vocab[i] for i in range(len(vocab))}\n",
        "    x_to_i = {vocab[i]: i for i in range(len(vocab))}\n",
        "\n",
        "    x_train, x_test, y_train, y_test = train_test_split(x, y, test_size=test_size, random_state=0)\n",
        "    x_test, x_val, y_test, y_val = train_test_split(x_test, y_test, test_size=val_split, random_state=0)\n",
        "\n",
        "    x_train = tokenizer(x_train, truncation=True, max_length=128, padding=True, return_tensors='pt').to(device)\n",
        "    y_train = torch.tensor([x_to_i[j] for j in y_train], dtype=torch.long).to(device)\n",
        "    train_dataset = TensorDataset(x_train['input_ids'], x_train['attention_mask'], x_train['token_type_ids'], y_train)\n",
        "    train_dataloader = DataLoader(train_dataset, batch_size=batch_size, shuffle=True)\n",
        "\n",
        "    x_test = tokenizer(x_test, truncation=True, max_length=128, padding=True, return_tensors='pt').to(device)\n",
        "    y_test = torch.tensor([x_to_i[j] for j in y_test], dtype=torch.long).to(device)\n",
        "    test_dataset = TensorDataset(x_test['input_ids'], x_test['attention_mask'], x_test['token_type_ids'], y_test)\n",
        "    test_dataloader = DataLoader(test_dataset, batch_size=batch_size, shuffle=True)\n",
        "\n",
        "    x_val = tokenizer(x_val, truncation=True, max_length=128, padding=True, return_tensors='pt').to(device)\n",
        "    y_val = torch.tensor([x_to_i[j] for j in y_val], dtype=torch.long).to(device)\n",
        "    val_dataset = TensorDataset(x_val['input_ids'], x_val['attention_mask'], x_val['token_type_ids'], y_val)\n",
        "    val_dataloader = DataLoader(val_dataset, batch_size=batch_size, shuffle=True)\n",
        "\n",
        "    return train_dataloader, val_dataloader, test_dataloader, vocab, i_to_x, x_to_i"
      ]
    },
    {
      "cell_type": "markdown",
      "metadata": {
        "id": "tlzuDHeImWB8"
      },
      "source": [
        "# Initializing the model (using BioBERT since it is better for medical tasks)\n",
        "* We had to tone the model by a lot, since Colab wouldn't allow us to train the model with full-blown constraints\n",
        "* Using Batch Size 8 (recommended is 128), so our model is very toned down but performs much better than other approaches"
      ]
    },
    {
      "cell_type": "code",
      "execution_count": null,
      "metadata": {
        "id": "Oh27cUTqsFHB"
      },
      "outputs": [],
      "source": [
        "# Constants\n",
        "BATCH_SIZE = 8\n",
        "BERT_MODEL = 'dmis-lab/biobert-base-cased-v1.2'\n",
        "LEARNING_RATE = 3e-5\n",
        "EPOCHS = 5"
      ]
    },
    {
      "cell_type": "markdown",
      "metadata": {
        "id": "L5wRKnoenSsh"
      },
      "source": [
        "# DrugClassifier Class\n",
        "\n",
        "* Pretrained BioBERT model (bert layer): Extracts contextual embeddings from input text.\n",
        "\n",
        "* Dropout layer (dropout with rate = 0.1): Helps prevent overfitting by randomly deactivating neurons during training.\n",
        "\n",
        "* Fully connected layers (lin1 and lin2):\n",
        "\n",
        " * lin1: Projects BERT’s output to a 128-dimensional representation.\n",
        "\n",
        " * lin2: Maps the 128D representation to the final vocabulary size (number of drug classes).\n",
        "\n",
        "* Forward Pass: Extracts features from BERT, applies dropout, and passes through linear layers for classification."
      ]
    },
    {
      "cell_type": "code",
      "execution_count": null,
      "metadata": {
        "id": "0q7guHQgv0LG"
      },
      "outputs": [],
      "source": [
        "# Enhanced model with dropout\n",
        "class DrugClassifier(nn.Module):\n",
        "    def __init__(self, vocab_size, dropout_rate=0.1):\n",
        "        super(DrugClassifier, self).__init__()\n",
        "        self.bert = BertModel.from_pretrained(BERT_MODEL)\n",
        "        self.dropout = nn.Dropout(dropout_rate)\n",
        "        self.lin1 = nn.Linear(self.bert.config.hidden_size, 128)\n",
        "        self.lin2 = nn.Linear(128, vocab_size)\n",
        "\n",
        "    def forward(self, input_ids, attention_mask):\n",
        "        _, pooled_output = self.bert(input_ids=input_ids, attention_mask=attention_mask, return_dict=False)\n",
        "        x = self.dropout(pooled_output)\n",
        "        x = self.lin1(x)\n",
        "        x = self.lin2(x)\n",
        "        return x"
      ]
    },
    {
      "cell_type": "markdown",
      "metadata": {
        "id": "pdUN6jmLn1mb"
      },
      "source": [
        "# EarlyStopping Class\n",
        "\n",
        "The EarlyStopping class monitors validation loss and stops training when no improvement is observed for patience consecutive epochs.\n",
        "\n",
        "* Key Parameters:\n",
        "\n",
        " * patience=3: Stops training if the validation loss doesn’t improve for 3 consecutive epochs.\n",
        "\n",
        " * min_delta=0: Defines the minimum change in loss required to reset patience.\n",
        "\n",
        "Benefit: Helps prevent overfitting by stopping training at the optimal point."
      ]
    },
    {
      "cell_type": "code",
      "execution_count": null,
      "metadata": {
        "id": "Gxx0_eX4nuAl"
      },
      "outputs": [],
      "source": [
        "# Early stopping class\n",
        "class EarlyStopping:\n",
        "    def __init__(self, patience=3, min_delta=0):\n",
        "        self.patience = patience\n",
        "        self.min_delta = min_delta\n",
        "        self.counter = 0\n",
        "        self.best_loss = None\n",
        "        self.early_stop = False\n",
        "\n",
        "    def __call__(self, val_loss):\n",
        "        if self.best_loss is None:\n",
        "            self.best_loss = val_loss\n",
        "        elif val_loss > self.best_loss - self.min_delta:\n",
        "            self.counter += 1\n",
        "            if self.counter >= self.patience:\n",
        "                self.early_stop = True\n",
        "        else:\n",
        "            self.best_loss = val_loss\n",
        "            self.counter = 0"
      ]
    },
    {
      "cell_type": "markdown",
      "metadata": {
        "id": "yQGTcdY4oE0d"
      },
      "source": [
        "# Load and Preprocess Data"
      ]
    },
    {
      "cell_type": "code",
      "execution_count": null,
      "metadata": {
        "colab": {
          "base_uri": "https://localhost:8080/",
          "height": 255,
          "referenced_widgets": [
            "98c37e5606974b55afee5c44f7ac5a0e",
            "38072cbb135f4953bfd411d2a47453e7",
            "5034d868f20f4923a9cd3de7686f8617",
            "5403fa5e02fc42398db1ad5e90fc66a7",
            "9bfd706ec84447c98a47b45c94e60f3d",
            "56b12910752947ca80edd456a50e4df6",
            "cafa9e87f07647099555be3f05bfd3dd",
            "6ace5427ee5248c08850f7b02fe48c54",
            "87ee0dbbc51f4d24aaf975ac35ee05a3",
            "d9e1c7b7228f46b8bc73dc8b68e59b36",
            "36bdbd7609fb4c53afc878d99fdfa52c",
            "9eea38cabfbc4271a4022254aa88910d",
            "d70a869a870f42ddbdd26627914d5914",
            "f64caaf0c6d14dda87dedcd6dbc9058c",
            "d3619b1f8b084a81b738a42c823ead42",
            "502ebb4ba0ed4b46bbbc9541ca7d6af5",
            "0641fa5979754b79a6f6741832241625",
            "a465026edfca491dbbe7fa276351df22",
            "8fe7892023d04610a57cbf2e2b4340b6",
            "9d66efc0eb8147159f8e576650cf5b9f",
            "c3059e011c234e529a967b8f7bc0d332",
            "8eaad2e5453843ba81fbfe9c56a2ff37"
          ]
        },
        "id": "xSbuI3Iunv-A",
        "outputId": "ac838e58-6a75-4dd7-e63f-6e65167827fb"
      },
      "outputs": [
        {
          "name": "stdout",
          "output_type": "stream",
          "text": [
            "Please provide your Kaggle credentials to download this dataset. Learn more: http://bit.ly/kaggle-creds\n",
            "Your Kaggle username: kushrevankar\n",
            "Your Kaggle Key: ··········\n",
            "Dataset URL: https://www.kaggle.com/datasets/jessicali9530/kuc-hackathon-winter-2018\n"
          ]
        },
        {
          "name": "stderr",
          "output_type": "stream",
          "text": [
            "/usr/local/lib/python3.11/dist-packages/huggingface_hub/utils/_auth.py:94: UserWarning: \n",
            "The secret `HF_TOKEN` does not exist in your Colab secrets.\n",
            "To authenticate with the Hugging Face Hub, create a token in your settings tab (https://huggingface.co/settings/tokens), set it as secret in your Google Colab and restart your session.\n",
            "You will be able to reuse this secret in all of your notebooks.\n",
            "Please note that authentication is recommended but still optional to access public models or datasets.\n",
            "  warnings.warn(\n"
          ]
        },
        {
          "data": {
            "application/vnd.jupyter.widget-view+json": {
              "model_id": "98c37e5606974b55afee5c44f7ac5a0e",
              "version_major": 2,
              "version_minor": 0
            },
            "text/plain": [
              "vocab.txt:   0%|          | 0.00/213k [00:00<?, ?B/s]"
            ]
          },
          "metadata": {},
          "output_type": "display_data"
        },
        {
          "data": {
            "application/vnd.jupyter.widget-view+json": {
              "model_id": "9eea38cabfbc4271a4022254aa88910d",
              "version_major": 2,
              "version_minor": 0
            },
            "text/plain": [
              "config.json:   0%|          | 0.00/1.11k [00:00<?, ?B/s]"
            ]
          },
          "metadata": {},
          "output_type": "display_data"
        }
      ],
      "source": [
        "# Load and preprocess data\n",
        "main_x, main_y = load_data(DATASET_URL)\n",
        "tokenizer = BertTokenizer.from_pretrained(BERT_MODEL)\n",
        "train_dataloader, val_dataloader, test_dataloader, vocab, i_to_x, x_to_i = preprocess_data(main_x, main_y, tokenizer)"
      ]
    },
    {
      "cell_type": "markdown",
      "metadata": {
        "id": "hqcGJMkVo1Cn"
      },
      "source": [
        "# Train the model on the processed data"
      ]
    },
    {
      "cell_type": "code",
      "execution_count": null,
      "metadata": {
        "colab": {
          "base_uri": "https://localhost:8080/",
          "height": 272,
          "referenced_widgets": [
            "3d3eae8ee1d14d579a290c5fb250ce12",
            "e8c6c79a48624cddbfe6c343a070d3f9",
            "b2c828ff440e41b3ba7c1e84c32a0cd4",
            "13826fdf6f2242fa8da29937761a40e1",
            "df6d52fb0b3e4afc8c9961e19f2df59e",
            "5ad8f0fbffc34079bd32cc8c155526f4",
            "f5f941fe902747959828b3e31ba6faf6",
            "fd153d1901714ad3b9abf65d1bd0d0d4",
            "56fe2e4537cd42b68075842428c2f0da",
            "aa0422eb02e14c91ba5c6319646c1ab9",
            "7c20a62f37b3438381060227cdfc0aa2",
            "c4019276a55946e69fe677d44dd87196",
            "cd40861104cf4645802756039f02994a",
            "cef3ba69b7ea41f1b3526bb47ca2153d",
            "171972a769ce4527b47238eb7df8c7ea",
            "394301b6fc5445c5854b10e74f2365b5",
            "779e384fe3694cd29340a4303132600b",
            "859058b38df548e28b8a6a57dd7b9ebb",
            "b22be716f29140e4b94f29ecced7ed6c",
            "2fed4bd6adef4ea289e40c7ec5ee35d3",
            "58ff3cebf47e43a3ba0edab844d60ac4",
            "6975b6689c4e408385609fd7f1fe71a5"
          ]
        },
        "id": "8V_I7UJHsBcY",
        "outputId": "ea51bf08-22c3-498b-922b-adc39a7756ea"
      },
      "outputs": [
        {
          "data": {
            "application/vnd.jupyter.widget-view+json": {
              "model_id": "3d3eae8ee1d14d579a290c5fb250ce12",
              "version_major": 2,
              "version_minor": 0
            },
            "text/plain": [
              "pytorch_model.bin:   0%|          | 0.00/436M [00:00<?, ?B/s]"
            ]
          },
          "metadata": {},
          "output_type": "display_data"
        },
        {
          "name": "stderr",
          "output_type": "stream",
          "text": [
            "\rTraining Epoch 1:   0%|          | 0/36 [00:00<?]"
          ]
        },
        {
          "data": {
            "application/vnd.jupyter.widget-view+json": {
              "model_id": "c4019276a55946e69fe677d44dd87196",
              "version_major": 2,
              "version_minor": 0
            },
            "text/plain": [
              "model.safetensors:   0%|          | 0.00/436M [00:00<?, ?B/s]"
            ]
          },
          "metadata": {},
          "output_type": "display_data"
        },
        {
          "name": "stderr",
          "output_type": "stream",
          "text": [
            "Training Epoch 1: 100%|██████████| 36/36 [01:20<00:00]\n",
            "Validating: 100%|██████████| 2/2 [00:01<00:00]\n",
            "Training Epoch 2: 100%|██████████| 36/36 [01:24<00:00]\n",
            "Validating: 100%|██████████| 2/2 [00:01<00:00]\n",
            "Training Epoch 3: 100%|██████████| 36/36 [01:24<00:00]\n",
            "Validating: 100%|██████████| 2/2 [00:01<00:00]\n",
            "Training Epoch 4: 100%|██████████| 36/36 [01:24<00:00]\n",
            "Validating: 100%|██████████| 2/2 [00:01<00:00]\n",
            "Training Epoch 5: 100%|██████████| 36/36 [01:24<00:00]\n",
            "Validating: 100%|██████████| 2/2 [00:01<00:00]\n"
          ]
        }
      ],
      "source": [
        "# Initialize model, optimizer, and loss\n",
        "model = DrugClassifier(len(vocab)).to(device)\n",
        "loss_func = nn.CrossEntropyLoss()\n",
        "optimizer = torch.optim.Adam(model.parameters(), lr=LEARNING_RATE)\n",
        "\n",
        "# Training loop with enhancements\n",
        "best_model = {'accuracy': -1, 'epoch': -1, 'model': {}, 'optimizer': {}}\n",
        "early_stopping = EarlyStopping(patience=3)\n",
        "\n",
        "train_losses, val_losses, train_accs, val_accs = [], [], [], []\n",
        "for epoch in range(EPOCHS):\n",
        "    logger.info(f\"Epoch: {epoch+1}/{EPOCHS}\")\n",
        "    losses, accuracies, f1_scores = [], [], []\n",
        "    model.train()\n",
        "    for input_ids, attention_mask, token_type_ids, labels in tqdm(train_dataloader, desc=f\"Training Epoch {epoch+1}\", bar_format=\"{l_bar}{bar}| {n_fmt}/{total_fmt} [{elapsed}<{remaining}]\"):\n",
        "        out = model(input_ids=input_ids.to(device), attention_mask=attention_mask.to(device))\n",
        "        loss = loss_func(out, labels)\n",
        "        optimizer.zero_grad()\n",
        "        loss.backward()\n",
        "        optimizer.step()\n",
        "        pred = torch.max(out, dim=1, keepdim=True)[1].view(-1).to(torch.float32).to(device)\n",
        "        acc = accuracy_score(pred.tolist(), labels.tolist())\n",
        "        f1 = f1_score(pred.tolist(), labels.tolist(), average='weighted')\n",
        "        losses.append(loss.item())\n",
        "        accuracies.append(acc)\n",
        "        f1_scores.append(f1)\n",
        "\n",
        "    train_loss = sum(losses) / len(losses)\n",
        "    train_acc = sum(accuracies) / len(accuracies)\n",
        "    train_f1 = sum(f1_scores) / len(f1_scores)\n",
        "    train_losses.append(train_loss)\n",
        "    train_accs.append(train_acc)\n",
        "    logger.info(f\"Train Loss: {train_loss:.4f} | Train Accuracy: {train_acc:.4f} | Train F1: {train_f1:.4f}\")\n",
        "\n",
        "    val_losses_epoch, val_accuracies, val_f1 = [], [], []\n",
        "    model.eval()\n",
        "    with torch.no_grad():\n",
        "        for input_ids, attention_mask, token_type_ids, labels in tqdm(val_dataloader, desc=\"Validating\", bar_format=\"{l_bar}{bar}| {n_fmt}/{total_fmt} [{elapsed}<{remaining}]\"):\n",
        "            pred = model(input_ids=input_ids, attention_mask=attention_mask)\n",
        "            loss = loss_func(pred, labels)\n",
        "            pred = torch.max(pred, dim=1, keepdim=True)[1].view(-1).to(torch.float32)\n",
        "            acc = accuracy_score(pred.tolist(), labels.tolist())\n",
        "            f1 = f1_score(pred.tolist(), labels.tolist(), average='weighted')\n",
        "            val_losses_epoch.append(loss.item())\n",
        "            val_accuracies.append(acc)\n",
        "            val_f1.append(f1)\n",
        "\n",
        "    val_loss = sum(val_losses_epoch) / len(val_losses_epoch)\n",
        "    val_acc = sum(val_accuracies) / len(val_accuracies)\n",
        "    val_f1_avg = sum(val_f1) / len(val_f1)\n",
        "    val_losses.append(val_loss)\n",
        "    val_accs.append(val_acc)\n",
        "    logger.info(f\"Dev Loss: {val_loss:.4f} | Dev Accuracy: {val_acc:.4f} | Dev F1: {val_f1_avg:.4f}\")\n",
        "\n",
        "    early_stopping(val_loss)\n",
        "    if early_stopping.early_stop:\n",
        "        logger.info(\"Early stopping triggered!\")\n",
        "        break\n",
        "\n",
        "    if best_model['accuracy'] < val_acc:\n",
        "        best_model['accuracy'] = val_acc\n",
        "        best_model['epoch'] = epoch + 1\n",
        "        best_model['model'] = model.state_dict()\n",
        "        best_model['optimizer'] = optimizer.state_dict()"
      ]
    },
    {
      "cell_type": "markdown",
      "metadata": {
        "id": "lr3vo5x6o9R2"
      },
      "source": [
        "# Save the best model (for further reuse without training)"
      ]
    },
    {
      "cell_type": "code",
      "execution_count": null,
      "metadata": {
        "id": "oJO43Aq5p-qP"
      },
      "outputs": [],
      "source": [
        "# Save the best model\n",
        "torch.save({\n",
        "    'accuracy': best_model['accuracy'],\n",
        "    'epoch': best_model['epoch'],\n",
        "    'model': best_model['model'],\n",
        "    'optimizer': best_model['optimizer']\n",
        "}, './best_model6')"
      ]
    },
    {
      "cell_type": "markdown",
      "metadata": {
        "id": "IYavx8INpEQM"
      },
      "source": [
        "# Evaluating the model"
      ]
    },
    {
      "cell_type": "code",
      "execution_count": null,
      "metadata": {
        "colab": {
          "base_uri": "https://localhost:8080/"
        },
        "id": "A9p5Xfiqp1r0",
        "outputId": "f9b07f4f-ac3c-4dd6-d7ee-310a0c9b6bba"
      },
      "outputs": [
        {
          "name": "stderr",
          "output_type": "stream",
          "text": [
            "Testing: 100%|██████████| 2/2 [00:01<00:00]\n"
          ]
        }
      ],
      "source": [
        "# Load and test the best model\n",
        "model_path = './best_model6'\n",
        "checkpoint = torch.load(model_path)\n",
        "model.load_state_dict(checkpoint['model'])\n",
        "optimizer.load_state_dict(checkpoint['optimizer'])\n",
        "\n",
        "test_accuracies, test_f1_scores, test_losses = [], [], []\n",
        "model.eval()\n",
        "with torch.no_grad():\n",
        "    for input_ids, attention_mask, token_type_ids, labels in tqdm(test_dataloader, desc=\"Testing\", bar_format=\"{l_bar}{bar}| {n_fmt}/{total_fmt} [{elapsed}<{remaining}]\"):\n",
        "        pred = model(input_ids=input_ids, attention_mask=attention_mask)\n",
        "        loss = loss_func(pred, labels)\n",
        "        pred = torch.max(pred, dim=1, keepdim=True)[1].view(-1).to(torch.float32)\n",
        "        acc = accuracy_score(pred.tolist(), labels.tolist())\n",
        "        f1 = f1_score(pred.tolist(), labels.tolist(), average='weighted')\n",
        "        test_accuracies.append(acc)\n",
        "        test_f1_scores.append(f1)\n",
        "        test_losses.append(loss.item())\n",
        "\n",
        "test_loss = sum(test_losses) / len(test_losses)\n",
        "test_acc = sum(test_accuracies) / len(test_accuracies)\n",
        "test_f1 = sum(test_f1_scores) / len(test_f1_scores)\n",
        "logger.info(f\"Test Loss: {test_loss:.4f} | Test Accuracy: {test_acc:.4f} | Test F1: {test_f1:.4f}\")"
      ]
    },
    {
      "cell_type": "markdown",
      "metadata": {
        "id": "5KIZJNqcpI5f"
      },
      "source": [
        "# Plotting the metrics and their trends, per training epoch"
      ]
    },
    {
      "cell_type": "code",
      "execution_count": null,
      "metadata": {
        "colab": {
          "base_uri": "https://localhost:8080/",
          "height": 507
        },
        "id": "QAgqq3eSpwDO",
        "outputId": "4ec127d5-8365-4740-9203-7ee212f98723"
      },
      "outputs": [
        {
          "data": {
            "image/png": "[encoded data removed]",
            "text/plain": [
              "<Figure size 1200x500 with 2 Axes>"
            ]
          },
          "metadata": {},
          "output_type": "display_data"
        }
      ],
      "source": [
        "# Plotting metrics\n",
        "plt.figure(figsize=(12, 5))\n",
        "plt.subplot(1, 2, 1)\n",
        "plt.plot(train_losses, label='Train Loss')\n",
        "plt.plot(val_losses, label='Val Loss')\n",
        "plt.title('Loss Over Epochs')\n",
        "plt.xlabel('Epoch')\n",
        "plt.ylabel('Loss')\n",
        "plt.legend()\n",
        "\n",
        "plt.subplot(1, 2, 2)\n",
        "plt.plot(train_accs, label='Train Accuracy')\n",
        "plt.plot(val_accs, label='Val Accuracy')\n",
        "plt.title('Accuracy Over Epochs')\n",
        "plt.xlabel('Epoch')\n",
        "plt.ylabel('Accuracy')\n",
        "plt.legend()\n",
        "\n",
        "plt.tight_layout()\n",
        "plt.show()"
      ]
    },
    {
      "cell_type": "markdown",
      "metadata": {
        "id": "SUYy-XjLpS1m"
      },
      "source": [
        "## **Final Remarks**  \n",
        "\n",
        "### **1. Summary of Findings**  \n",
        "This project explored **disease classification using NLP** with **BioBERT, MiniBERT, LSTM**.  \n",
        "- **MiniBERT** provided a balance between **efficiency and accuracy**, performed better than LSTM but worse than BioBERT under constrained training.  \n",
        "- **LSTM** captured sequential dependencies but struggled with long-range context.  \n",
        "- **BioBERT** showed **potential for superior performance**, but **hardware constraints limited fine-tuning**, yet performed better than the rest.  \n",
        "\n",
        "---\n",
        "\n",
        "### **2. Training Limitations**  \n",
        "**Hardware Constraints:** Training on **Google Colab’s free tier** limited **batch size, epochs, and hyperparameter tuning**.  \n",
        "**Short Training Time:** Only **5 epochs** were run due to memory restrictions, preventing full convergence.  \n",
        "**Limited Hyperparameter Optimization:** More **fine-tuning (learning rate, dropout, batch size)** could improve performance.  \n",
        "\n",
        "---\n",
        "\n",
        "### **3. Projected Performance with Full Training**  \n",
        "If trained on a **high-performance GPU/TPU** with **30+ epochs**, we estimate:  \n",
        "**BERT Accuracy:** **70-85%** (vs. ~40% currently).  \n",
        "**MiniBERT Accuracy:** **75-85%**, achieving close performance with fewer resources.  \n",
        "**LSTM Accuracy:** **65-75%**, with improvements from hyperparameter tuning.  \n",
        "\n",
        "---\n",
        "\n",
        "### **4. Future Work**  \n",
        "* **Train on a TPU/GPU cluster** for deeper fine-tuning.  \n",
        "* **Experiment with alternative architectures** (e.g., RoBERTa, DistilBERT).  \n",
        "* **Improve data augmentation techniques** to enhance generalization.  \n",
        "\n",
        "---\n",
        "\n",
        "### **5. Key Takeaways**  \n",
        "**Transformer models (BERT, MiniBERT) outperform traditional methods** but require **high compute power**.\n",
        "**MiniBERT offers a strong trade-off** between accuracy and computational efficiency.  \n",
        "**With better training conditions, this model could reach state-of-the-art performance in disease classification.**  \n",
        "\n",
        "**Despite limitations, this project demonstrates the effectiveness of NLP in medical applications and sets the foundation for further improvements.**"
      ]
    }
  ],
  "metadata": {
    "accelerator": "GPU",
    "colab": {
      "gpuType": "T4",
      "provenance": []
    },
    "kernelspec": {
      "display_name": "Python 3",
      "name": "python3"
    },
    "language_info": {
      "name": "python"
    },
    "widgets": {
      "application/vnd.jupyter.widget-state+json": {
        "0641fa5979754b79a6f6741832241625": {
          "model_module": "@jupyter-widgets/base",
          "model_module_version": "1.2.0",
          "model_name": "LayoutModel",
          "state": {
            "_model_module": "@jupyter-widgets/base",
            "_model_module_version": "1.2.0",
            "_model_name": "LayoutModel",
            "_view_count": null,
            "_view_module": "@jupyter-widgets/base",
            "_view_module_version": "1.2.0",
            "_view_name": "LayoutView",
            "align_content": null,
            "align_items": null,
            "align_self": null,
            "border": null,
            "bottom": null,
            "display": null,
            "flex": null,
            "flex_flow": null,
            "grid_area": null,
            "grid_auto_columns": null,
            "grid_auto_flow": null,
            "grid_auto_rows": null,
            "grid_column": null,
            "grid_gap": null,
            "grid_row": null,
            "grid_template_areas": null,
            "grid_template_columns": null,
            "grid_template_rows": null,
            "height": null,
            "justify_content": null,
            "justify_items": null,
            "left": null,
            "margin": null,
            "max_height": null,
            "max_width": null,
            "min_height": null,
            "min_width": null,
            "object_fit": null,
            "object_position": null,
            "order": null,
            "overflow": null,
            "overflow_x": null,
            "overflow_y": null,
            "padding": null,
            "right": null,
            "top": null,
            "visibility": null,
            "width": null
          }
        },
        "13826fdf6f2242fa8da29937761a40e1": {
          "model_module": "@jupyter-widgets/controls",
          "model_module_version": "1.5.0",
          "model_name": "HTMLModel",
          "state": {
            "_dom_classes": [],
            "_model_module": "@jupyter-widgets/controls",
            "_model_module_version": "1.5.0",
            "_model_name": "HTMLModel",
            "_view_count": null,
            "_view_module": "@jupyter-widgets/controls",
            "_view_module_version": "1.5.0",
            "_view_name": "HTMLView",
            "description": "",
            "description_tooltip": null,
            "layout": "IPY_MODEL_aa0422eb02e14c91ba5c6319646c1ab9",
            "placeholder": "​",
            "style": "IPY_MODEL_7c20a62f37b3438381060227cdfc0aa2",
            "value": " 436M/436M [00:01&lt;00:00, 258MB/s]"
          }
        },
        "171972a769ce4527b47238eb7df8c7ea": {
          "model_module": "@jupyter-widgets/controls",
          "model_module_version": "1.5.0",
          "model_name": "HTMLModel",
          "state": {
            "_dom_classes": [],
            "_model_module": "@jupyter-widgets/controls",
            "_model_module_version": "1.5.0",
            "_model_name": "HTMLModel",
            "_view_count": null,
            "_view_module": "@jupyter-widgets/controls",
            "_view_module_version": "1.5.0",
            "_view_name": "HTMLView",
            "description": "",
            "description_tooltip": null,
            "layout": "IPY_MODEL_58ff3cebf47e43a3ba0edab844d60ac4",
            "placeholder": "​",
            "style": "IPY_MODEL_6975b6689c4e408385609fd7f1fe71a5",
            "value": " 436M/436M [00:02&lt;00:00, 236MB/s]"
          }
        },
        "2fed4bd6adef4ea289e40c7ec5ee35d3": {
          "model_module": "@jupyter-widgets/controls",
          "model_module_version": "1.5.0",
          "model_name": "ProgressStyleModel",
          "state": {
            "_model_module": "@jupyter-widgets/controls",
            "_model_module_version": "1.5.0",
            "_model_name": "ProgressStyleModel",
            "_view_count": null,
            "_view_module": "@jupyter-widgets/base",
            "_view_module_version": "1.2.0",
            "_view_name": "StyleView",
            "bar_color": null,
            "description_width": ""
          }
        },
        "36bdbd7609fb4c53afc878d99fdfa52c": {
          "model_module": "@jupyter-widgets/controls",
          "model_module_version": "1.5.0",
          "model_name": "DescriptionStyleModel",
          "state": {
            "_model_module": "@jupyter-widgets/controls",
            "_model_module_version": "1.5.0",
            "_model_name": "DescriptionStyleModel",
            "_view_count": null,
            "_view_module": "@jupyter-widgets/base",
            "_view_module_version": "1.2.0",
            "_view_name": "StyleView",
            "description_width": ""
          }
        },
        "38072cbb135f4953bfd411d2a47453e7": {
          "model_module": "@jupyter-widgets/controls",
          "model_module_version": "1.5.0",
          "model_name": "HTMLModel",
          "state": {
            "_dom_classes": [],
            "_model_module": "@jupyter-widgets/controls",
            "_model_module_version": "1.5.0",
            "_model_name": "HTMLModel",
            "_view_count": null,
            "_view_module": "@jupyter-widgets/controls",
            "_view_module_version": "1.5.0",
            "_view_name": "HTMLView",
            "description": "",
            "description_tooltip": null,
            "layout": "IPY_MODEL_56b12910752947ca80edd456a50e4df6",
            "placeholder": "​",
            "style": "IPY_MODEL_cafa9e87f07647099555be3f05bfd3dd",
            "value": "vocab.txt: 100%"
          }
        },
        "394301b6fc5445c5854b10e74f2365b5": {
          "model_module": "@jupyter-widgets/base",
          "model_module_version": "1.2.0",
          "model_name": "LayoutModel",
          "state": {
            "_model_module": "@jupyter-widgets/base",
            "_model_module_version": "1.2.0",
            "_model_name": "LayoutModel",
            "_view_count": null,
            "_view_module": "@jupyter-widgets/base",
            "_view_module_version": "1.2.0",
            "_view_name": "LayoutView",
            "align_content": null,
            "align_items": null,
            "align_self": null,
            "border": null,
            "bottom": null,
            "display": null,
            "flex": null,
            "flex_flow": null,
            "grid_area": null,
            "grid_auto_columns": null,
            "grid_auto_flow": null,
            "grid_auto_rows": null,
            "grid_column": null,
            "grid_gap": null,
            "grid_row": null,
            "grid_template_areas": null,
            "grid_template_columns": null,
            "grid_template_rows": null,
            "height": null,
            "justify_content": null,
            "justify_items": null,
            "left": null,
            "margin": null,
            "max_height": null,
            "max_width": null,
            "min_height": null,
            "min_width": null,
            "object_fit": null,
            "object_position": null,
            "order": null,
            "overflow": null,
            "overflow_x": null,
            "overflow_y": null,
            "padding": null,
            "right": null,
            "top": null,
            "visibility": null,
            "width": null
          }
        },
        "3d3eae8ee1d14d579a290c5fb250ce12": {
          "model_module": "@jupyter-widgets/controls",
          "model_module_version": "1.5.0",
          "model_name": "HBoxModel",
          "state": {
            "_dom_classes": [],
            "_model_module": "@jupyter-widgets/controls",
            "_model_module_version": "1.5.0",
            "_model_name": "HBoxModel",
            "_view_count": null,
            "_view_module": "@jupyter-widgets/controls",
            "_view_module_version": "1.5.0",
            "_view_name": "HBoxView",
            "box_style": "",
            "children": [
              "IPY_MODEL_e8c6c79a48624cddbfe6c343a070d3f9",
              "IPY_MODEL_b2c828ff440e41b3ba7c1e84c32a0cd4",
              "IPY_MODEL_13826fdf6f2242fa8da29937761a40e1"
            ],
            "layout": "IPY_MODEL_df6d52fb0b3e4afc8c9961e19f2df59e"
          }
        },
        "502ebb4ba0ed4b46bbbc9541ca7d6af5": {
          "model_module": "@jupyter-widgets/base",
          "model_module_version": "1.2.0",
          "model_name": "LayoutModel",
          "state": {
            "_model_module": "@jupyter-widgets/base",
            "_model_module_version": "1.2.0",
            "_model_name": "LayoutModel",
            "_view_count": null,
            "_view_module": "@jupyter-widgets/base",
            "_view_module_version": "1.2.0",
            "_view_name": "LayoutView",
            "align_content": null,
            "align_items": null,
            "align_self": null,
            "border": null,
            "bottom": null,
            "display": null,
            "flex": null,
            "flex_flow": null,
            "grid_area": null,
            "grid_auto_columns": null,
            "grid_auto_flow": null,
            "grid_auto_rows": null,
            "grid_column": null,
            "grid_gap": null,
            "grid_row": null,
            "grid_template_areas": null,
            "grid_template_columns": null,
            "grid_template_rows": null,
            "height": null,
            "justify_content": null,
            "justify_items": null,
            "left": null,
            "margin": null,
            "max_height": null,
            "max_width": null,
            "min_height": null,
            "min_width": null,
            "object_fit": null,
            "object_position": null,
            "order": null,
            "overflow": null,
            "overflow_x": null,
            "overflow_y": null,
            "padding": null,
            "right": null,
            "top": null,
            "visibility": null,
            "width": null
          }
        },
        "5034d868f20f4923a9cd3de7686f8617": {
          "model_module": "@jupyter-widgets/controls",
          "model_module_version": "1.5.0",
          "model_name": "FloatProgressModel",
          "state": {
            "_dom_classes": [],
            "_model_module": "@jupyter-widgets/controls",
            "_model_module_version": "1.5.0",
            "_model_name": "FloatProgressModel",
            "_view_count": null,
            "_view_module": "@jupyter-widgets/controls",
            "_view_module_version": "1.5.0",
            "_view_name": "ProgressView",
            "bar_style": "success",
            "description": "",
            "description_tooltip": null,
            "layout": "IPY_MODEL_6ace5427ee5248c08850f7b02fe48c54",
            "max": 213450,
            "min": 0,
            "orientation": "horizontal",
            "style": "IPY_MODEL_87ee0dbbc51f4d24aaf975ac35ee05a3",
            "value": 213450
          }
        },
        "5403fa5e02fc42398db1ad5e90fc66a7": {
          "model_module": "@jupyter-widgets/controls",
          "model_module_version": "1.5.0",
          "model_name": "HTMLModel",
          "state": {
            "_dom_classes": [],
            "_model_module": "@jupyter-widgets/controls",
            "_model_module_version": "1.5.0",
            "_model_name": "HTMLModel",
            "_view_count": null,
            "_view_module": "@jupyter-widgets/controls",
            "_view_module_version": "1.5.0",
            "_view_name": "HTMLView",
            "description": "",
            "description_tooltip": null,
            "layout": "IPY_MODEL_d9e1c7b7228f46b8bc73dc8b68e59b36",
            "placeholder": "​",
            "style": "IPY_MODEL_36bdbd7609fb4c53afc878d99fdfa52c",
            "value": " 213k/213k [00:00&lt;00:00, 3.29MB/s]"
          }
        },
        "56b12910752947ca80edd456a50e4df6": {
          "model_module": "@jupyter-widgets/base",
          "model_module_version": "1.2.0",
          "model_name": "LayoutModel",
          "state": {
            "_model_module": "@jupyter-widgets/base",
            "_model_module_version": "1.2.0",
            "_model_name": "LayoutModel",
            "_view_count": null,
            "_view_module": "@jupyter-widgets/base",
            "_view_module_version": "1.2.0",
            "_view_name": "LayoutView",
            "align_content": null,
            "align_items": null,
            "align_self": null,
            "border": null,
            "bottom": null,
            "display": null,
            "flex": null,
            "flex_flow": null,
            "grid_area": null,
            "grid_auto_columns": null,
            "grid_auto_flow": null,
            "grid_auto_rows": null,
            "grid_column": null,
            "grid_gap": null,
            "grid_row": null,
            "grid_template_areas": null,
            "grid_template_columns": null,
            "grid_template_rows": null,
            "height": null,
            "justify_content": null,
            "justify_items": null,
            "left": null,
            "margin": null,
            "max_height": null,
            "max_width": null,
            "min_height": null,
            "min_width": null,
            "object_fit": null,
            "object_position": null,
            "order": null,
            "overflow": null,
            "overflow_x": null,
            "overflow_y": null,
            "padding": null,
            "right": null,
            "top": null,
            "visibility": null,
            "width": null
          }
        },
        "56fe2e4537cd42b68075842428c2f0da": {
          "model_module": "@jupyter-widgets/controls",
          "model_module_version": "1.5.0",
          "model_name": "ProgressStyleModel",
          "state": {
            "_model_module": "@jupyter-widgets/controls",
            "_model_module_version": "1.5.0",
            "_model_name": "ProgressStyleModel",
            "_view_count": null,
            "_view_module": "@jupyter-widgets/base",
            "_view_module_version": "1.2.0",
            "_view_name": "StyleView",
            "bar_color": null,
            "description_width": ""
          }
        },
        "58ff3cebf47e43a3ba0edab844d60ac4": {
          "model_module": "@jupyter-widgets/base",
          "model_module_version": "1.2.0",
          "model_name": "LayoutModel",
          "state": {
            "_model_module": "@jupyter-widgets/base",
            "_model_module_version": "1.2.0",
            "_model_name": "LayoutModel",
            "_view_count": null,
            "_view_module": "@jupyter-widgets/base",
            "_view_module_version": "1.2.0",
            "_view_name": "LayoutView",
            "align_content": null,
            "align_items": null,
            "align_self": null,
            "border": null,
            "bottom": null,
            "display": null,
            "flex": null,
            "flex_flow": null,
            "grid_area": null,
            "grid_auto_columns": null,
            "grid_auto_flow": null,
            "grid_auto_rows": null,
            "grid_column": null,
            "grid_gap": null,
            "grid_row": null,
            "grid_template_areas": null,
            "grid_template_columns": null,
            "grid_template_rows": null,
            "height": null,
            "justify_content": null,
            "justify_items": null,
            "left": null,
            "margin": null,
            "max_height": null,
            "max_width": null,
            "min_height": null,
            "min_width": null,
            "object_fit": null,
            "object_position": null,
            "order": null,
            "overflow": null,
            "overflow_x": null,
            "overflow_y": null,
            "padding": null,
            "right": null,
            "top": null,
            "visibility": null,
            "width": null
          }
        },
        "5ad8f0fbffc34079bd32cc8c155526f4": {
          "model_module": "@jupyter-widgets/base",
          "model_module_version": "1.2.0",
          "model_name": "LayoutModel",
          "state": {
            "_model_module": "@jupyter-widgets/base",
            "_model_module_version": "1.2.0",
            "_model_name": "LayoutModel",
            "_view_count": null,
            "_view_module": "@jupyter-widgets/base",
            "_view_module_version": "1.2.0",
            "_view_name": "LayoutView",
            "align_content": null,
            "align_items": null,
            "align_self": null,
            "border": null,
            "bottom": null,
            "display": null,
            "flex": null,
            "flex_flow": null,
            "grid_area": null,
            "grid_auto_columns": null,
            "grid_auto_flow": null,
            "grid_auto_rows": null,
            "grid_column": null,
            "grid_gap": null,
            "grid_row": null,
            "grid_template_areas": null,
            "grid_template_columns": null,
            "grid_template_rows": null,
            "height": null,
            "justify_content": null,
            "justify_items": null,
            "left": null,
            "margin": null,
            "max_height": null,
            "max_width": null,
            "min_height": null,
            "min_width": null,
            "object_fit": null,
            "object_position": null,
            "order": null,
            "overflow": null,
            "overflow_x": null,
            "overflow_y": null,
            "padding": null,
            "right": null,
            "top": null,
            "visibility": null,
            "width": null
          }
        },
        "6975b6689c4e408385609fd7f1fe71a5": {
          "model_module": "@jupyter-widgets/controls",
          "model_module_version": "1.5.0",
          "model_name": "DescriptionStyleModel",
          "state": {
            "_model_module": "@jupyter-widgets/controls",
            "_model_module_version": "1.5.0",
            "_model_name": "DescriptionStyleModel",
            "_view_count": null,
            "_view_module": "@jupyter-widgets/base",
            "_view_module_version": "1.2.0",
            "_view_name": "StyleView",
            "description_width": ""
          }
        },
        "6ace5427ee5248c08850f7b02fe48c54": {
          "model_module": "@jupyter-widgets/base",
          "model_module_version": "1.2.0",
          "model_name": "LayoutModel",
          "state": {
            "_model_module": "@jupyter-widgets/base",
            "_model_module_version": "1.2.0",
            "_model_name": "LayoutModel",
            "_view_count": null,
            "_view_module": "@jupyter-widgets/base",
            "_view_module_version": "1.2.0",
            "_view_name": "LayoutView",
            "align_content": null,
            "align_items": null,
            "align_self": null,
            "border": null,
            "bottom": null,
            "display": null,
            "flex": null,
            "flex_flow": null,
            "grid_area": null,
            "grid_auto_columns": null,
            "grid_auto_flow": null,
            "grid_auto_rows": null,
            "grid_column": null,
            "grid_gap": null,
            "grid_row": null,
            "grid_template_areas": null,
            "grid_template_columns": null,
            "grid_template_rows": null,
            "height": null,
            "justify_content": null,
            "justify_items": null,
            "left": null,
            "margin": null,
            "max_height": null,
            "max_width": null,
            "min_height": null,
            "min_width": null,
            "object_fit": null,
            "object_position": null,
            "order": null,
            "overflow": null,
            "overflow_x": null,
            "overflow_y": null,
            "padding": null,
            "right": null,
            "top": null,
            "visibility": null,
            "width": null
          }
        },
        "779e384fe3694cd29340a4303132600b": {
          "model_module": "@jupyter-widgets/base",
          "model_module_version": "1.2.0",
          "model_name": "LayoutModel",
          "state": {
            "_model_module": "@jupyter-widgets/base",
            "_model_module_version": "1.2.0",
            "_model_name": "LayoutModel",
            "_view_count": null,
            "_view_module": "@jupyter-widgets/base",
            "_view_module_version": "1.2.0",
            "_view_name": "LayoutView",
            "align_content": null,
            "align_items": null,
            "align_self": null,
            "border": null,
            "bottom": null,
            "display": null,
            "flex": null,
            "flex_flow": null,
            "grid_area": null,
            "grid_auto_columns": null,
            "grid_auto_flow": null,
            "grid_auto_rows": null,
            "grid_column": null,
            "grid_gap": null,
            "grid_row": null,
            "grid_template_areas": null,
            "grid_template_columns": null,
            "grid_template_rows": null,
            "height": null,
            "justify_content": null,
            "justify_items": null,
            "left": null,
            "margin": null,
            "max_height": null,
            "max_width": null,
            "min_height": null,
            "min_width": null,
            "object_fit": null,
            "object_position": null,
            "order": null,
            "overflow": null,
            "overflow_x": null,
            "overflow_y": null,
            "padding": null,
            "right": null,
            "top": null,
            "visibility": null,
            "width": null
          }
        },
        "7c20a62f37b3438381060227cdfc0aa2": {
          "model_module": "@jupyter-widgets/controls",
          "model_module_version": "1.5.0",
          "model_name": "DescriptionStyleModel",
          "state": {
            "_model_module": "@jupyter-widgets/controls",
            "_model_module_version": "1.5.0",
            "_model_name": "DescriptionStyleModel",
            "_view_count": null,
            "_view_module": "@jupyter-widgets/base",
            "_view_module_version": "1.2.0",
            "_view_name": "StyleView",
            "description_width": ""
          }
        },
        "859058b38df548e28b8a6a57dd7b9ebb": {
          "model_module": "@jupyter-widgets/controls",
          "model_module_version": "1.5.0",
          "model_name": "DescriptionStyleModel",
          "state": {
            "_model_module": "@jupyter-widgets/controls",
            "_model_module_version": "1.5.0",
            "_model_name": "DescriptionStyleModel",
            "_view_count": null,
            "_view_module": "@jupyter-widgets/base",
            "_view_module_version": "1.2.0",
            "_view_name": "StyleView",
            "description_width": ""
          }
        },
        "87ee0dbbc51f4d24aaf975ac35ee05a3": {
          "model_module": "@jupyter-widgets/controls",
          "model_module_version": "1.5.0",
          "model_name": "ProgressStyleModel",
          "state": {
            "_model_module": "@jupyter-widgets/controls",
            "_model_module_version": "1.5.0",
            "_model_name": "ProgressStyleModel",
            "_view_count": null,
            "_view_module": "@jupyter-widgets/base",
            "_view_module_version": "1.2.0",
            "_view_name": "StyleView",
            "bar_color": null,
            "description_width": ""
          }
        },
        "8eaad2e5453843ba81fbfe9c56a2ff37": {
          "model_module": "@jupyter-widgets/controls",
          "model_module_version": "1.5.0",
          "model_name": "DescriptionStyleModel",
          "state": {
            "_model_module": "@jupyter-widgets/controls",
            "_model_module_version": "1.5.0",
            "_model_name": "DescriptionStyleModel",
            "_view_count": null,
            "_view_module": "@jupyter-widgets/base",
            "_view_module_version": "1.2.0",
            "_view_name": "StyleView",
            "description_width": ""
          }
        },
        "8fe7892023d04610a57cbf2e2b4340b6": {
          "model_module": "@jupyter-widgets/base",
          "model_module_version": "1.2.0",
          "model_name": "LayoutModel",
          "state": {
            "_model_module": "@jupyter-widgets/base",
            "_model_module_version": "1.2.0",
            "_model_name": "LayoutModel",
            "_view_count": null,
            "_view_module": "@jupyter-widgets/base",
            "_view_module_version": "1.2.0",
            "_view_name": "LayoutView",
            "align_content": null,
            "align_items": null,
            "align_self": null,
            "border": null,
            "bottom": null,
            "display": null,
            "flex": null,
            "flex_flow": null,
            "grid_area": null,
            "grid_auto_columns": null,
            "grid_auto_flow": null,
            "grid_auto_rows": null,
            "grid_column": null,
            "grid_gap": null,
            "grid_row": null,
            "grid_template_areas": null,
            "grid_template_columns": null,
            "grid_template_rows": null,
            "height": null,
            "justify_content": null,
            "justify_items": null,
            "left": null,
            "margin": null,
            "max_height": null,
            "max_width": null,
            "min_height": null,
            "min_width": null,
            "object_fit": null,
            "object_position": null,
            "order": null,
            "overflow": null,
            "overflow_x": null,
            "overflow_y": null,
            "padding": null,
            "right": null,
            "top": null,
            "visibility": null,
            "width": null
          }
        },
        "98c37e5606974b55afee5c44f7ac5a0e": {
          "model_module": "@jupyter-widgets/controls",
          "model_module_version": "1.5.0",
          "model_name": "HBoxModel",
          "state": {
            "_dom_classes": [],
            "_model_module": "@jupyter-widgets/controls",
            "_model_module_version": "1.5.0",
            "_model_name": "HBoxModel",
            "_view_count": null,
            "_view_module": "@jupyter-widgets/controls",
            "_view_module_version": "1.5.0",
            "_view_name": "HBoxView",
            "box_style": "",
            "children": [
              "IPY_MODEL_38072cbb135f4953bfd411d2a47453e7",
              "IPY_MODEL_5034d868f20f4923a9cd3de7686f8617",
              "IPY_MODEL_5403fa5e02fc42398db1ad5e90fc66a7"
            ],
            "layout": "IPY_MODEL_9bfd706ec84447c98a47b45c94e60f3d"
          }
        },
        "9bfd706ec84447c98a47b45c94e60f3d": {
          "model_module": "@jupyter-widgets/base",
          "model_module_version": "1.2.0",
          "model_name": "LayoutModel",
          "state": {
            "_model_module": "@jupyter-widgets/base",
            "_model_module_version": "1.2.0",
            "_model_name": "LayoutModel",
            "_view_count": null,
            "_view_module": "@jupyter-widgets/base",
            "_view_module_version": "1.2.0",
            "_view_name": "LayoutView",
            "align_content": null,
            "align_items": null,
            "align_self": null,
            "border": null,
            "bottom": null,
            "display": null,
            "flex": null,
            "flex_flow": null,
            "grid_area": null,
            "grid_auto_columns": null,
            "grid_auto_flow": null,
            "grid_auto_rows": null,
            "grid_column": null,
            "grid_gap": null,
            "grid_row": null,
            "grid_template_areas": null,
            "grid_template_columns": null,
            "grid_template_rows": null,
            "height": null,
            "justify_content": null,
            "justify_items": null,
            "left": null,
            "margin": null,
            "max_height": null,
            "max_width": null,
            "min_height": null,
            "min_width": null,
            "object_fit": null,
            "object_position": null,
            "order": null,
            "overflow": null,
            "overflow_x": null,
            "overflow_y": null,
            "padding": null,
            "right": null,
            "top": null,
            "visibility": null,
            "width": null
          }
        },
        "9d66efc0eb8147159f8e576650cf5b9f": {
          "model_module": "@jupyter-widgets/controls",
          "model_module_version": "1.5.0",
          "model_name": "ProgressStyleModel",
          "state": {
            "_model_module": "@jupyter-widgets/controls",
            "_model_module_version": "1.5.0",
            "_model_name": "ProgressStyleModel",
            "_view_count": null,
            "_view_module": "@jupyter-widgets/base",
            "_view_module_version": "1.2.0",
            "_view_name": "StyleView",
            "bar_color": null,
            "description_width": ""
          }
        },
        "9eea38cabfbc4271a4022254aa88910d": {
          "model_module": "@jupyter-widgets/controls",
          "model_module_version": "1.5.0",
          "model_name": "HBoxModel",
          "state": {
            "_dom_classes": [],
            "_model_module": "@jupyter-widgets/controls",
            "_model_module_version": "1.5.0",
            "_model_name": "HBoxModel",
            "_view_count": null,
            "_view_module": "@jupyter-widgets/controls",
            "_view_module_version": "1.5.0",
            "_view_name": "HBoxView",
            "box_style": "",
            "children": [
              "IPY_MODEL_d70a869a870f42ddbdd26627914d5914",
              "IPY_MODEL_f64caaf0c6d14dda87dedcd6dbc9058c",
              "IPY_MODEL_d3619b1f8b084a81b738a42c823ead42"
            ],
            "layout": "IPY_MODEL_502ebb4ba0ed4b46bbbc9541ca7d6af5"
          }
        },
        "a465026edfca491dbbe7fa276351df22": {
          "model_module": "@jupyter-widgets/controls",
          "model_module_version": "1.5.0",
          "model_name": "DescriptionStyleModel",
          "state": {
            "_model_module": "@jupyter-widgets/controls",
            "_model_module_version": "1.5.0",
            "_model_name": "DescriptionStyleModel",
            "_view_count": null,
            "_view_module": "@jupyter-widgets/base",
            "_view_module_version": "1.2.0",
            "_view_name": "StyleView",
            "description_width": ""
          }
        },
        "aa0422eb02e14c91ba5c6319646c1ab9": {
          "model_module": "@jupyter-widgets/base",
          "model_module_version": "1.2.0",
          "model_name": "LayoutModel",
          "state": {
            "_model_module": "@jupyter-widgets/base",
            "_model_module_version": "1.2.0",
            "_model_name": "LayoutModel",
            "_view_count": null,
            "_view_module": "@jupyter-widgets/base",
            "_view_module_version": "1.2.0",
            "_view_name": "LayoutView",
            "align_content": null,
            "align_items": null,
            "align_self": null,
            "border": null,
            "bottom": null,
            "display": null,
            "flex": null,
            "flex_flow": null,
            "grid_area": null,
            "grid_auto_columns": null,
            "grid_auto_flow": null,
            "grid_auto_rows": null,
            "grid_column": null,
            "grid_gap": null,
            "grid_row": null,
            "grid_template_areas": null,
            "grid_template_columns": null,
            "grid_template_rows": null,
            "height": null,
            "justify_content": null,
            "justify_items": null,
            "left": null,
            "margin": null,
            "max_height": null,
            "max_width": null,
            "min_height": null,
            "min_width": null,
            "object_fit": null,
            "object_position": null,
            "order": null,
            "overflow": null,
            "overflow_x": null,
            "overflow_y": null,
            "padding": null,
            "right": null,
            "top": null,
            "visibility": null,
            "width": null
          }
        },
        "b22be716f29140e4b94f29ecced7ed6c": {
          "model_module": "@jupyter-widgets/base",
          "model_module_version": "1.2.0",
          "model_name": "LayoutModel",
          "state": {
            "_model_module": "@jupyter-widgets/base",
            "_model_module_version": "1.2.0",
            "_model_name": "LayoutModel",
            "_view_count": null,
            "_view_module": "@jupyter-widgets/base",
            "_view_module_version": "1.2.0",
            "_view_name": "LayoutView",
            "align_content": null,
            "align_items": null,
            "align_self": null,
            "border": null,
            "bottom": null,
            "display": null,
            "flex": null,
            "flex_flow": null,
            "grid_area": null,
            "grid_auto_columns": null,
            "grid_auto_flow": null,
            "grid_auto_rows": null,
            "grid_column": null,
            "grid_gap": null,
            "grid_row": null,
            "grid_template_areas": null,
            "grid_template_columns": null,
            "grid_template_rows": null,
            "height": null,
            "justify_content": null,
            "justify_items": null,
            "left": null,
            "margin": null,
            "max_height": null,
            "max_width": null,
            "min_height": null,
            "min_width": null,
            "object_fit": null,
            "object_position": null,
            "order": null,
            "overflow": null,
            "overflow_x": null,
            "overflow_y": null,
            "padding": null,
            "right": null,
            "top": null,
            "visibility": null,
            "width": null
          }
        },
        "b2c828ff440e41b3ba7c1e84c32a0cd4": {
          "model_module": "@jupyter-widgets/controls",
          "model_module_version": "1.5.0",
          "model_name": "FloatProgressModel",
          "state": {
            "_dom_classes": [],
            "_model_module": "@jupyter-widgets/controls",
            "_model_module_version": "1.5.0",
            "_model_name": "FloatProgressModel",
            "_view_count": null,
            "_view_module": "@jupyter-widgets/controls",
            "_view_module_version": "1.5.0",
            "_view_name": "ProgressView",
            "bar_style": "success",
            "description": "",
            "description_tooltip": null,
            "layout": "IPY_MODEL_fd153d1901714ad3b9abf65d1bd0d0d4",
            "max": 435783451,
            "min": 0,
            "orientation": "horizontal",
            "style": "IPY_MODEL_56fe2e4537cd42b68075842428c2f0da",
            "value": 435783451
          }
        },
        "c3059e011c234e529a967b8f7bc0d332": {
          "model_module": "@jupyter-widgets/base",
          "model_module_version": "1.2.0",
          "model_name": "LayoutModel",
          "state": {
            "_model_module": "@jupyter-widgets/base",
            "_model_module_version": "1.2.0",
            "_model_name": "LayoutModel",
            "_view_count": null,
            "_view_module": "@jupyter-widgets/base",
            "_view_module_version": "1.2.0",
            "_view_name": "LayoutView",
            "align_content": null,
            "align_items": null,
            "align_self": null,
            "border": null,
            "bottom": null,
            "display": null,
            "flex": null,
            "flex_flow": null,
            "grid_area": null,
            "grid_auto_columns": null,
            "grid_auto_flow": null,
            "grid_auto_rows": null,
            "grid_column": null,
            "grid_gap": null,
            "grid_row": null,
            "grid_template_areas": null,
            "grid_template_columns": null,
            "grid_template_rows": null,
            "height": null,
            "justify_content": null,
            "justify_items": null,
            "left": null,
            "margin": null,
            "max_height": null,
            "max_width": null,
            "min_height": null,
            "min_width": null,
            "object_fit": null,
            "object_position": null,
            "order": null,
            "overflow": null,
            "overflow_x": null,
            "overflow_y": null,
            "padding": null,
            "right": null,
            "top": null,
            "visibility": null,
            "width": null
          }
        },
        "c4019276a55946e69fe677d44dd87196": {
          "model_module": "@jupyter-widgets/controls",
          "model_module_version": "1.5.0",
          "model_name": "HBoxModel",
          "state": {
            "_dom_classes": [],
            "_model_module": "@jupyter-widgets/controls",
            "_model_module_version": "1.5.0",
            "_model_name": "HBoxModel",
            "_view_count": null,
            "_view_module": "@jupyter-widgets/controls",
            "_view_module_version": "1.5.0",
            "_view_name": "HBoxView",
            "box_style": "",
            "children": [
              "IPY_MODEL_cd40861104cf4645802756039f02994a",
              "IPY_MODEL_cef3ba69b7ea41f1b3526bb47ca2153d",
              "IPY_MODEL_171972a769ce4527b47238eb7df8c7ea"
            ],
            "layout": "IPY_MODEL_394301b6fc5445c5854b10e74f2365b5"
          }
        },
        "cafa9e87f07647099555be3f05bfd3dd": {
          "model_module": "@jupyter-widgets/controls",
          "model_module_version": "1.5.0",
          "model_name": "DescriptionStyleModel",
          "state": {
            "_model_module": "@jupyter-widgets/controls",
            "_model_module_version": "1.5.0",
            "_model_name": "DescriptionStyleModel",
            "_view_count": null,
            "_view_module": "@jupyter-widgets/base",
            "_view_module_version": "1.2.0",
            "_view_name": "StyleView",
            "description_width": ""
          }
        },
        "cd40861104cf4645802756039f02994a": {
          "model_module": "@jupyter-widgets/controls",
          "model_module_version": "1.5.0",
          "model_name": "HTMLModel",
          "state": {
            "_dom_classes": [],
            "_model_module": "@jupyter-widgets/controls",
            "_model_module_version": "1.5.0",
            "_model_name": "HTMLModel",
            "_view_count": null,
            "_view_module": "@jupyter-widgets/controls",
            "_view_module_version": "1.5.0",
            "_view_name": "HTMLView",
            "description": "",
            "description_tooltip": null,
            "layout": "IPY_MODEL_779e384fe3694cd29340a4303132600b",
            "placeholder": "​",
            "style": "IPY_MODEL_859058b38df548e28b8a6a57dd7b9ebb",
            "value": "model.safetensors: 100%"
          }
        },
        "cef3ba69b7ea41f1b3526bb47ca2153d": {
          "model_module": "@jupyter-widgets/controls",
          "model_module_version": "1.5.0",
          "model_name": "FloatProgressModel",
          "state": {
            "_dom_classes": [],
            "_model_module": "@jupyter-widgets/controls",
            "_model_module_version": "1.5.0",
            "_model_name": "FloatProgressModel",
            "_view_count": null,
            "_view_module": "@jupyter-widgets/controls",
            "_view_module_version": "1.5.0",
            "_view_name": "ProgressView",
            "bar_style": "success",
            "description": "",
            "description_tooltip": null,
            "layout": "IPY_MODEL_b22be716f29140e4b94f29ecced7ed6c",
            "max": 435755810,
            "min": 0,
            "orientation": "horizontal",
            "style": "IPY_MODEL_2fed4bd6adef4ea289e40c7ec5ee35d3",
            "value": 435755810
          }
        },
        "d3619b1f8b084a81b738a42c823ead42": {
          "model_module": "@jupyter-widgets/controls",
          "model_module_version": "1.5.0",
          "model_name": "HTMLModel",
          "state": {
            "_dom_classes": [],
            "_model_module": "@jupyter-widgets/controls",
            "_model_module_version": "1.5.0",
            "_model_name": "HTMLModel",
            "_view_count": null,
            "_view_module": "@jupyter-widgets/controls",
            "_view_module_version": "1.5.0",
            "_view_name": "HTMLView",
            "description": "",
            "description_tooltip": null,
            "layout": "IPY_MODEL_c3059e011c234e529a967b8f7bc0d332",
            "placeholder": "​",
            "style": "IPY_MODEL_8eaad2e5453843ba81fbfe9c56a2ff37",
            "value": " 1.11k/1.11k [00:00&lt;00:00, 16.7kB/s]"
          }
        },
        "d70a869a870f42ddbdd26627914d5914": {
          "model_module": "@jupyter-widgets/controls",
          "model_module_version": "1.5.0",
          "model_name": "HTMLModel",
          "state": {
            "_dom_classes": [],
            "_model_module": "@jupyter-widgets/controls",
            "_model_module_version": "1.5.0",
            "_model_name": "HTMLModel",
            "_view_count": null,
            "_view_module": "@jupyter-widgets/controls",
            "_view_module_version": "1.5.0",
            "_view_name": "HTMLView",
            "description": "",
            "description_tooltip": null,
            "layout": "IPY_MODEL_0641fa5979754b79a6f6741832241625",
            "placeholder": "​",
            "style": "IPY_MODEL_a465026edfca491dbbe7fa276351df22",
            "value": "config.json: 100%"
          }
        },
        "d9e1c7b7228f46b8bc73dc8b68e59b36": {
          "model_module": "@jupyter-widgets/base",
          "model_module_version": "1.2.0",
          "model_name": "LayoutModel",
          "state": {
            "_model_module": "@jupyter-widgets/base",
            "_model_module_version": "1.2.0",
            "_model_name": "LayoutModel",
            "_view_count": null,
            "_view_module": "@jupyter-widgets/base",
            "_view_module_version": "1.2.0",
            "_view_name": "LayoutView",
            "align_content": null,
            "align_items": null,
            "align_self": null,
            "border": null,
            "bottom": null,
            "display": null,
            "flex": null,
            "flex_flow": null,
            "grid_area": null,
            "grid_auto_columns": null,
            "grid_auto_flow": null,
            "grid_auto_rows": null,
            "grid_column": null,
            "grid_gap": null,
            "grid_row": null,
            "grid_template_areas": null,
            "grid_template_columns": null,
            "grid_template_rows": null,
            "height": null,
            "justify_content": null,
            "justify_items": null,
            "left": null,
            "margin": null,
            "max_height": null,
            "max_width": null,
            "min_height": null,
            "min_width": null,
            "object_fit": null,
            "object_position": null,
            "order": null,
            "overflow": null,
            "overflow_x": null,
            "overflow_y": null,
            "padding": null,
            "right": null,
            "top": null,
            "visibility": null,
            "width": null
          }
        },
        "df6d52fb0b3e4afc8c9961e19f2df59e": {
          "model_module": "@jupyter-widgets/base",
          "model_module_version": "1.2.0",
          "model_name": "LayoutModel",
          "state": {
            "_model_module": "@jupyter-widgets/base",
            "_model_module_version": "1.2.0",
            "_model_name": "LayoutModel",
            "_view_count": null,
            "_view_module": "@jupyter-widgets/base",
            "_view_module_version": "1.2.0",
            "_view_name": "LayoutView",
            "align_content": null,
            "align_items": null,
            "align_self": null,
            "border": null,
            "bottom": null,
            "display": null,
            "flex": null,
            "flex_flow": null,
            "grid_area": null,
            "grid_auto_columns": null,
            "grid_auto_flow": null,
            "grid_auto_rows": null,
            "grid_column": null,
            "grid_gap": null,
            "grid_row": null,
            "grid_template_areas": null,
            "grid_template_columns": null,
            "grid_template_rows": null,
            "height": null,
            "justify_content": null,
            "justify_items": null,
            "left": null,
            "margin": null,
            "max_height": null,
            "max_width": null,
            "min_height": null,
            "min_width": null,
            "object_fit": null,
            "object_position": null,
            "order": null,
            "overflow": null,
            "overflow_x": null,
            "overflow_y": null,
            "padding": null,
            "right": null,
            "top": null,
            "visibility": null,
            "width": null
          }
        },
        "e8c6c79a48624cddbfe6c343a070d3f9": {
          "model_module": "@jupyter-widgets/controls",
          "model_module_version": "1.5.0",
          "model_name": "HTMLModel",
          "state": {
            "_dom_classes": [],
            "_model_module": "@jupyter-widgets/controls",
            "_model_module_version": "1.5.0",
            "_model_name": "HTMLModel",
            "_view_count": null,
            "_view_module": "@jupyter-widgets/controls",
            "_view_module_version": "1.5.0",
            "_view_name": "HTMLView",
            "description": "",
            "description_tooltip": null,
            "layout": "IPY_MODEL_5ad8f0fbffc34079bd32cc8c155526f4",
            "placeholder": "​",
            "style": "IPY_MODEL_f5f941fe902747959828b3e31ba6faf6",
            "value": "pytorch_model.bin: 100%"
          }
        },
        "f5f941fe902747959828b3e31ba6faf6": {
          "model_module": "@jupyter-widgets/controls",
          "model_module_version": "1.5.0",
          "model_name": "DescriptionStyleModel",
          "state": {
            "_model_module": "@jupyter-widgets/controls",
            "_model_module_version": "1.5.0",
            "_model_name": "DescriptionStyleModel",
            "_view_count": null,
            "_view_module": "@jupyter-widgets/base",
            "_view_module_version": "1.2.0",
            "_view_name": "StyleView",
            "description_width": ""
          }
        },
        "f64caaf0c6d14dda87dedcd6dbc9058c": {
          "model_module": "@jupyter-widgets/controls",
          "model_module_version": "1.5.0",
          "model_name": "FloatProgressModel",
          "state": {
            "_dom_classes": [],
            "_model_module": "@jupyter-widgets/controls",
            "_model_module_version": "1.5.0",
            "_model_name": "FloatProgressModel",
            "_view_count": null,
            "_view_module": "@jupyter-widgets/controls",
            "_view_module_version": "1.5.0",
            "_view_name": "ProgressView",
            "bar_style": "success",
            "description": "",
            "description_tooltip": null,
            "layout": "IPY_MODEL_8fe7892023d04610a57cbf2e2b4340b6",
            "max": 1110,
            "min": 0,
            "orientation": "horizontal",
            "style": "IPY_MODEL_9d66efc0eb8147159f8e576650cf5b9f",
            "value": 1110
          }
        },
        "fd153d1901714ad3b9abf65d1bd0d0d4": {
          "model_module": "@jupyter-widgets/base",
          "model_module_version": "1.2.0",
          "model_name": "LayoutModel",
          "state": {
            "_model_module": "@jupyter-widgets/base",
            "_model_module_version": "1.2.0",
            "_model_name": "LayoutModel",
            "_view_count": null,
            "_view_module": "@jupyter-widgets/base",
            "_view_module_version": "1.2.0",
            "_view_name": "LayoutView",
            "align_content": null,
            "align_items": null,
            "align_self": null,
            "border": null,
            "bottom": null,
            "display": null,
            "flex": null,
            "flex_flow": null,
            "grid_area": null,
            "grid_auto_columns": null,
            "grid_auto_flow": null,
            "grid_auto_rows": null,
            "grid_column": null,
            "grid_gap": null,
            "grid_row": null,
            "grid_template_areas": null,
            "grid_template_columns": null,
            "grid_template_rows": null,
            "height": null,
            "justify_content": null,
            "justify_items": null,
            "left": null,
            "margin": null,
            "max_height": null,
            "max_width": null,
            "min_height": null,
            "min_width": null,
            "object_fit": null,
            "object_position": null,
            "order": null,
            "overflow": null,
            "overflow_x": null,
            "overflow_y": null,
            "padding": null,
            "right": null,
            "top": null,
            "visibility": null,
            "width": null
          }
        }
      }
    }
  },
  "nbformat": 4,
  "nbformat_minor": 0
}
